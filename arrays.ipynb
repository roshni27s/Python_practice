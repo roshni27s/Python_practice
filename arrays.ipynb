{
 "cells": [
  {
   "cell_type": "markdown",
   "metadata": {},
   "source": [
    "# 1. To find sum of array"
   ]
  },
  {
   "cell_type": "code",
   "execution_count": 2,
   "metadata": {},
   "outputs": [
    {
     "name": "stdout",
     "output_type": "stream",
     "text": [
      "Enter number of elements: 5\n",
      "1\n",
      "2\n",
      "3\n",
      "4\n",
      "5\n",
      "15\n"
     ]
    }
   ],
   "source": [
    "def sum_arr(arr):\n",
    "    sum1=0\n",
    "    for i in arr:\n",
    "        sum1=sum1+i\n",
    "    return sum1\n",
    "\n",
    "arr=[]\n",
    "n=int(input(\"Enter number of elements: \"))\n",
    "for i in range(0,n):\n",
    "    ele=int(input())\n",
    "    \n",
    "    arr.append(ele)\n",
    "    \n",
    "print(sum_arr(arr))"
   ]
  },
  {
   "cell_type": "markdown",
   "metadata": {},
   "source": [
    "# 2. Print largest element in an array"
   ]
  },
  {
   "cell_type": "code",
   "execution_count": 1,
   "metadata": {},
   "outputs": [
    {
     "name": "stdout",
     "output_type": "stream",
     "text": [
      "enter number of elements: 5\n",
      "2\n",
      "8\n",
      "9\n",
      "1\n",
      "6\n",
      "9\n"
     ]
    }
   ],
   "source": [
    "def largest(arr,n):\n",
    "    max1=arr[0]\n",
    "    for i in range(1,n):\n",
    "        if(max1<arr[i]):\n",
    "            max1=arr[i]\n",
    "    return max1\n",
    "\n",
    "arr=[]\n",
    "n=int(input(\"enter number of elements: \"))\n",
    "for i in range(0,n):\n",
    "    x=int(input())\n",
    "    \n",
    "    arr.append(x)\n",
    "    \n",
    "print(largest(arr,n))"
   ]
  },
  {
   "cell_type": "markdown",
   "metadata": {},
   "source": [
    "# 3. Python program for array rotation"
   ]
  },
  {
   "cell_type": "code",
   "execution_count": 3,
   "metadata": {},
   "outputs": [
    {
     "name": "stdout",
     "output_type": "stream",
     "text": [
      "enter number of elements: 6\n",
      "1\n",
      "2\n",
      "3\n",
      "4\n",
      "5\n",
      "6\n",
      "enter d: 2\n",
      "[3, 4, 5, 6, 1, 2]\n"
     ]
    }
   ],
   "source": [
    "def rotate(arr,n,d):\n",
    "    arr[:]=arr[d:n]+arr[0:d]\n",
    "    return arr\n",
    "\n",
    "arr = []\n",
    "n = int(input(\"enter number of elements: \"))\n",
    "for i in range(0,n):\n",
    "    x=int(input())\n",
    "    arr.append(x)\n",
    "d=int(input(\"enter d: \"))\n",
    "print(rotate(arr,n,d))"
   ]
  },
  {
   "cell_type": "markdown",
   "metadata": {},
   "source": [
    "# 4. Reversal algorithm for array rotation"
   ]
  },
  {
   "cell_type": "code",
   "execution_count": 4,
   "metadata": {},
   "outputs": [
    {
     "name": "stdout",
     "output_type": "stream",
     "text": [
      "enter number of elements: 7\n",
      "1\n",
      "2\n",
      "3\n",
      "4\n",
      "5\n",
      "6\n",
      "7\n",
      "enter d: 2\n",
      "[3, 4, 5, 6, 7, 1, 2]\n"
     ]
    }
   ],
   "source": [
    "def rotate(arr,n,d):\n",
    "    arr[:]=arr[d:n]+arr[0:d]\n",
    "    return arr\n",
    "\n",
    "arr = []\n",
    "n = int(input(\"enter number of elements: \"))\n",
    "for i in range(0,n):\n",
    "    x=int(input())\n",
    "    arr.append(x)\n",
    "d=int(input(\"enter d: \"))\n",
    "print(rotate(arr,n,d))"
   ]
  },
  {
   "cell_type": "markdown",
   "metadata": {},
   "source": [
    "# 5. To split the array and move first part to end"
   ]
  },
  {
   "cell_type": "code",
   "execution_count": 1,
   "metadata": {},
   "outputs": [
    {
     "name": "stdout",
     "output_type": "stream",
     "text": [
      "enter number of elements: 6\n",
      "12\n",
      "10\n",
      "5\n",
      "6\n",
      "52\n",
      "36\n",
      "enter d: 2\n",
      "5 6 52 36 12 10 "
     ]
    }
   ],
   "source": [
    "def splitArr(arr,n,k):\n",
    "    for i in range(0,k):\n",
    "        x=arr[0]\n",
    "        for j in range(0,n-1):\n",
    "            arr[j]=arr[j+1]\n",
    "        arr[n-1]=x\n",
    "        \n",
    "arr = []\n",
    "n = int(input(\"enter number of elements: \"))\n",
    "for i in range(0,n):\n",
    "    x=int(input())\n",
    "    arr.append(x)\n",
    "d=int(input(\"enter d: \"))\n",
    "splitArr(arr,n,d)\n",
    "for i in range(0,n):\n",
    "    print(arr[i],end=' ')"
   ]
  },
  {
   "cell_type": "markdown",
   "metadata": {},
   "source": [
    "# 6. Find remainder of array multiplication divided by n"
   ]
  },
  {
   "cell_type": "code",
   "execution_count": 2,
   "metadata": {},
   "outputs": [
    {
     "name": "stdout",
     "output_type": "stream",
     "text": [
      "enter the number of elements: 6\n",
      "100\n",
      "10\n",
      "5\n",
      "25\n",
      "35\n",
      "14\n",
      "enter the value: 11\n",
      "ans is:  9\n"
     ]
    }
   ],
   "source": [
    "def multiply(arr,n):\n",
    "    p=1;\n",
    "    for i in range(0,n):\n",
    "        p=p*arr[i]\n",
    "    return p\n",
    "\n",
    "def find(p,x):\n",
    "    return p%x\n",
    "\n",
    "n=int(input(\"enter the number of elements: \"))\n",
    "arr=[]\n",
    "for i in range(0,n):\n",
    "    ele=int(input())\n",
    "    arr.append(ele)\n",
    "x=int(input(\"enter the value: \"))\n",
    "p=multiply(arr,n)\n",
    "print(\"ans is: \",find(p,x))"
   ]
  },
  {
   "cell_type": "markdown",
   "metadata": {},
   "source": [
    "# 7. To check if array is monotonic"
   ]
  },
  {
   "cell_type": "code",
   "execution_count": 25,
   "metadata": {},
   "outputs": [
    {
     "ename": "SyntaxError",
     "evalue": "invalid syntax (<ipython-input-25-c5900f76717b>, line 2)",
     "output_type": "error",
     "traceback": [
      "\u001b[1;36m  File \u001b[1;32m\"<ipython-input-25-c5900f76717b>\"\u001b[1;36m, line \u001b[1;32m2\u001b[0m\n\u001b[1;33m    return ((all arr[i]<=arr[i+1] for i in range(len(arr)-1)) or (all arr[i]>=arr[i+1] for i in range(len(arr)-1)))\u001b[0m\n\u001b[1;37m                   ^\u001b[0m\n\u001b[1;31mSyntaxError\u001b[0m\u001b[1;31m:\u001b[0m invalid syntax\n"
     ]
    }
   ],
   "source": [
    "def checkMonotonic(arr):\n",
    "    return ((all arr[i]<=arr[i+1] for i in range(len(arr)-1)) or (all arr[i]>=arr[i+1] for i in range(len(arr)-1)))\n",
    "\n",
    "n=int(input(\"enter the number of elements: \"))\n",
    "for i in range(0,n):\n",
    "    ele=int(input())\n",
    "    arr.append(ele)\n",
    "print(checkMonotonic(arr))"
   ]
  },
  {
   "cell_type": "code",
   "execution_count": null,
   "metadata": {},
   "outputs": [],
   "source": []
  }
 ],
 "metadata": {
  "kernelspec": {
   "display_name": "Python 3",
   "language": "python",
   "name": "python3"
  },
  "language_info": {
   "codemirror_mode": {
    "name": "ipython",
    "version": 3
   },
   "file_extension": ".py",
   "mimetype": "text/x-python",
   "name": "python",
   "nbconvert_exporter": "python",
   "pygments_lexer": "ipython3",
   "version": "3.7.3"
  }
 },
 "nbformat": 4,
 "nbformat_minor": 2
}
