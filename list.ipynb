{
 "cells": [
  {
   "cell_type": "markdown",
   "metadata": {},
   "source": [
    "# 1. Interchange first and last elements"
   ]
  },
  {
   "cell_type": "code",
   "execution_count": 1,
   "metadata": {},
   "outputs": [
    {
     "name": "stdout",
     "output_type": "stream",
     "text": [
      "enter number of elements: 5\n",
      "1 \n",
      "2\n",
      "3\n",
      "4\n",
      "5\n",
      "[5, 2, 3, 4, 1]\n"
     ]
    }
   ],
   "source": [
    "def swapList(arr):\n",
    "    arr[0],arr[-1]=arr[-1],arr[0]\n",
    "    return arr\n",
    "\n",
    "n=int(input(\"enter number of elements: \"))\n",
    "arr=[]\n",
    "for i in range(0,n):\n",
    "    ele=int(input())\n",
    "    arr.append(ele)\n",
    "\n",
    "print(swapList(arr))"
   ]
  },
  {
   "cell_type": "markdown",
   "metadata": {},
   "source": [
    "# 2. Swap 2 elements"
   ]
  },
  {
   "cell_type": "code",
   "execution_count": 3,
   "metadata": {},
   "outputs": [
    {
     "name": "stdout",
     "output_type": "stream",
     "text": [
      "enter number of elements: 4\n",
      "23\n",
      "65\n",
      "19\n",
      "90\n",
      "[23, 19, 65, 90]\n"
     ]
    }
   ],
   "source": [
    "def swapEle(arr,p1,p2):\n",
    "    temp=arr[p1-1];\n",
    "    arr[p1-1]=arr[p2-1]\n",
    "    arr[p2-1]=temp\n",
    "    return arr\n",
    "\n",
    "n=int(input(\"enter number of elements: \"))\n",
    "arr=[]\n",
    "for i in range(0,n):\n",
    "    ele=int(input())\n",
    "    arr.append(ele)\n",
    "\n",
    "print(swapEle(arr,2,3))"
   ]
  },
  {
   "cell_type": "markdown",
   "metadata": {},
   "source": [
    "# 3. Find length of list"
   ]
  },
  {
   "cell_type": "code",
   "execution_count": 3,
   "metadata": {},
   "outputs": [
    {
     "name": "stdout",
     "output_type": "stream",
     "text": [
      "5\n"
     ]
    }
   ],
   "source": [
    "def countL(arr):\n",
    "    c=0;\n",
    "    for i in arr:\n",
    "        c=c+1;\n",
    "    return c\n",
    "\n",
    "arr=[1,2,3,4,5]\n",
    "print(countL(arr))"
   ]
  },
  {
   "cell_type": "markdown",
   "metadata": {},
   "source": [
    "# 4. Check if element exists in list"
   ]
  },
  {
   "cell_type": "code",
   "execution_count": 8,
   "metadata": {},
   "outputs": [
    {
     "name": "stdout",
     "output_type": "stream",
     "text": [
      "-1\n"
     ]
    }
   ],
   "source": [
    "def search(arr,x):\n",
    "    t=-1\n",
    "    for i in arr:\n",
    "        if(i==x):\n",
    "            t=x\n",
    "    return t\n",
    "\n",
    "arr=[1,2,3,4,5]\n",
    "print(search(arr,6))\n",
    "        "
   ]
  },
  {
   "cell_type": "code",
   "execution_count": 9,
   "metadata": {},
   "outputs": [],
   "source": [
    "#second method"
   ]
  },
  {
   "cell_type": "code",
   "execution_count": 10,
   "metadata": {},
   "outputs": [
    {
     "name": "stdout",
     "output_type": "stream",
     "text": [
      "yes\n"
     ]
    }
   ],
   "source": [
    "arr=[1,6,3,5,3,4]\n",
    "\n",
    "if (4 in arr):\n",
    "    print(\"yes\")\n",
    "else:\n",
    "    print(\"no\")"
   ]
  },
  {
   "cell_type": "code",
   "execution_count": 11,
   "metadata": {},
   "outputs": [
    {
     "data": {
      "text/plain": [
       "'[1, 2, 3, 4]'"
      ]
     },
     "execution_count": 11,
     "metadata": {},
     "output_type": "execute_result"
    }
   ],
   "source": [
    "list1=[1,2,3,4]\n",
    "stri=str(list1)\n",
    "stri"
   ]
  },
  {
   "cell_type": "code",
   "execution_count": 12,
   "metadata": {},
   "outputs": [
    {
     "data": {
      "text/plain": [
       "[1, 2, 3, 4]"
      ]
     },
     "execution_count": 12,
     "metadata": {},
     "output_type": "execute_result"
    }
   ],
   "source": [
    "list1"
   ]
  },
  {
   "cell_type": "code",
   "execution_count": 13,
   "metadata": {},
   "outputs": [
    {
     "data": {
      "text/plain": [
       "'[1, 2, 3, 4]'"
      ]
     },
     "execution_count": 13,
     "metadata": {},
     "output_type": "execute_result"
    }
   ],
   "source": [
    "str(list1)"
   ]
  },
  {
   "cell_type": "code",
   "execution_count": 14,
   "metadata": {},
   "outputs": [
    {
     "data": {
      "text/plain": [
       "[1, 2, 3, 4]"
      ]
     },
     "execution_count": 14,
     "metadata": {},
     "output_type": "execute_result"
    }
   ],
   "source": [
    "list1"
   ]
  },
  {
   "cell_type": "markdown",
   "metadata": {},
   "source": [
    "# 5. clear list"
   ]
  },
  {
   "cell_type": "code",
   "execution_count": 16,
   "metadata": {},
   "outputs": [
    {
     "name": "stdout",
     "output_type": "stream",
     "text": [
      "[6, 0, 4, 1]\n",
      "[]\n"
     ]
    }
   ],
   "source": [
    "listii=[6,0,4,1]\n",
    "print(listii)\n",
    "listii.clear()\n",
    "print(listii)"
   ]
  },
  {
   "cell_type": "code",
   "execution_count": 19,
   "metadata": {},
   "outputs": [
    {
     "name": "stdout",
     "output_type": "stream",
     "text": [
      "[6, 0, 4, 1]\n",
      "[]\n"
     ]
    }
   ],
   "source": [
    "list12=[6,0,4,1]\n",
    "print(list12)\n",
    "del list12[:]\n",
    "print(list12)"
   ]
  },
  {
   "cell_type": "markdown",
   "metadata": {},
   "source": [
    "# 6. Reversing a list "
   ]
  },
  {
   "cell_type": "code",
   "execution_count": 1,
   "metadata": {},
   "outputs": [
    {
     "name": "stdout",
     "output_type": "stream",
     "text": [
      "enter the number of elements: 6\n",
      "1\n",
      "2\n",
      "3\n",
      "4\n",
      "5\n",
      "6\n",
      "[6, 5, 4, 3, 2, 1]\n"
     ]
    }
   ],
   "source": [
    "def Reverse(arr):\n",
    "    arr.reverse()\n",
    "    return arr\n",
    "\n",
    "n=int(input(\"enter the number of elements: \"))\n",
    "arr=[]\n",
    "for i in range(n):\n",
    "    ele=int(input())\n",
    "    arr.append(ele)\n",
    "print(Reverse(arr))"
   ]
  },
  {
   "cell_type": "code",
   "execution_count": 2,
   "metadata": {},
   "outputs": [
    {
     "name": "stdout",
     "output_type": "stream",
     "text": [
      "[5, 4, 3, 2, 1]\n"
     ]
    }
   ],
   "source": [
    "def Reverse(arr):\n",
    "    newl=arr[::-1]\n",
    "    return newl\n",
    "\n",
    "arr=[1,2,3,4,5]\n",
    "print(Reverse(arr))"
   ]
  },
  {
   "cell_type": "markdown",
   "metadata": {},
   "source": [
    "# 7. To find the sum of elements in list"
   ]
  },
  {
   "cell_type": "code",
   "execution_count": 5,
   "metadata": {},
   "outputs": [
    {
     "name": "stdout",
     "output_type": "stream",
     "text": [
      "enter the number of elements: 4\n",
      "12\n",
      "15\n",
      "3\n",
      "10\n",
      "sum=  40\n"
     ]
    }
   ],
   "source": [
    "def findSum(arr,n):\n",
    "    s=0\n",
    "    for i in range(0,n):\n",
    "        s+=arr[i]\n",
    "    return s\n",
    "\n",
    "arr=[]\n",
    "n=int(input(\"enter the number of elements: \"))\n",
    "for i in range(n):\n",
    "    ele=int(input())\n",
    "    arr.append(ele)\n",
    "print(\"sum= \",findSum(arr,n))"
   ]
  },
  {
   "cell_type": "code",
   "execution_count": 6,
   "metadata": {},
   "outputs": [
    {
     "name": "stdout",
     "output_type": "stream",
     "text": [
      "40\n"
     ]
    }
   ],
   "source": [
    "list1=[12,13,5,10]\n",
    "total=sum(list1)\n",
    "print(total)"
   ]
  },
  {
   "cell_type": "markdown",
   "metadata": {},
   "source": [
    "# 8. Multiply all numbers in the list"
   ]
  },
  {
   "cell_type": "code",
   "execution_count": 7,
   "metadata": {},
   "outputs": [
    {
     "name": "stdout",
     "output_type": "stream",
     "text": [
      "enter the number of elements: 4\n",
      "1\n",
      "2\n",
      "3\n",
      "4\n",
      "product=  24\n"
     ]
    }
   ],
   "source": [
    "def multi(arr):\n",
    "    pro=1\n",
    "    for i in arr:\n",
    "        pro*=i\n",
    "    return pro\n",
    "\n",
    "arr=[]\n",
    "n=int(input(\"enter the number of elements: \"))\n",
    "for i in range(n):\n",
    "    ele=int(input())\n",
    "    arr.append(ele)\n",
    "print(\"product= \",multi(arr))"
   ]
  },
  {
   "cell_type": "code",
   "execution_count": 8,
   "metadata": {},
   "outputs": [
    {
     "name": "stdout",
     "output_type": "stream",
     "text": [
      "6\n",
      "24\n"
     ]
    }
   ],
   "source": [
    "import numpy\n",
    "list1=[1,2,3]\n",
    "list2=[3,2,4]\n",
    "result=numpy.prod(list1)\n",
    "result2=numpy.prod(list2)\n",
    "print(result)\n",
    "print(result2)"
   ]
  },
  {
   "cell_type": "code",
   "execution_count": 13,
   "metadata": {},
   "outputs": [
    {
     "ename": "AttributeError",
     "evalue": "module 'math' has no attribute 'prod'",
     "output_type": "error",
     "traceback": [
      "\u001b[1;31m---------------------------------------------------------------------------\u001b[0m",
      "\u001b[1;31mAttributeError\u001b[0m                            Traceback (most recent call last)",
      "\u001b[1;32m<ipython-input-13-46fd74328a3b>\u001b[0m in \u001b[0;36m<module>\u001b[1;34m\u001b[0m\n\u001b[0;32m      2\u001b[0m \u001b[0mlist1\u001b[0m\u001b[1;33m=\u001b[0m\u001b[1;33m[\u001b[0m\u001b[1;36m1\u001b[0m\u001b[1;33m,\u001b[0m\u001b[1;36m2\u001b[0m\u001b[1;33m,\u001b[0m\u001b[1;36m3\u001b[0m\u001b[1;33m]\u001b[0m\u001b[1;33m\u001b[0m\u001b[1;33m\u001b[0m\u001b[0m\n\u001b[0;32m      3\u001b[0m \u001b[0mlist2\u001b[0m\u001b[1;33m=\u001b[0m\u001b[1;33m[\u001b[0m\u001b[1;36m3\u001b[0m\u001b[1;33m,\u001b[0m\u001b[1;36m2\u001b[0m\u001b[1;33m,\u001b[0m\u001b[1;36m4\u001b[0m\u001b[1;33m]\u001b[0m\u001b[1;33m\u001b[0m\u001b[1;33m\u001b[0m\u001b[0m\n\u001b[1;32m----> 4\u001b[1;33m \u001b[0mresult\u001b[0m\u001b[1;33m=\u001b[0m\u001b[0mmath\u001b[0m\u001b[1;33m.\u001b[0m\u001b[0mprod\u001b[0m\u001b[1;33m(\u001b[0m\u001b[0mlist1\u001b[0m\u001b[1;33m)\u001b[0m\u001b[1;33m\u001b[0m\u001b[1;33m\u001b[0m\u001b[0m\n\u001b[0m\u001b[0;32m      5\u001b[0m \u001b[0mresult2\u001b[0m\u001b[1;33m=\u001b[0m\u001b[0mmath\u001b[0m\u001b[1;33m.\u001b[0m\u001b[0mprod\u001b[0m\u001b[1;33m(\u001b[0m\u001b[0mlist2\u001b[0m\u001b[1;33m)\u001b[0m\u001b[1;33m\u001b[0m\u001b[1;33m\u001b[0m\u001b[0m\n\u001b[0;32m      6\u001b[0m \u001b[0mprint\u001b[0m\u001b[1;33m(\u001b[0m\u001b[0mresult\u001b[0m\u001b[1;33m)\u001b[0m\u001b[1;33m\u001b[0m\u001b[1;33m\u001b[0m\u001b[0m\n",
      "\u001b[1;31mAttributeError\u001b[0m: module 'math' has no attribute 'prod'"
     ]
    }
   ],
   "source": [
    "import math\n",
    "list1=[1,2,3]\n",
    "list2=[3,2,4]\n",
    "result=math.prod(list1)\n",
    "result2=math.prod(list2)\n",
    "print(result)\n",
    "print(result2)"
   ]
  },
  {
   "cell_type": "markdown",
   "metadata": {},
   "source": [
    "# 9. To find smallest number in a list"
   ]
  },
  {
   "cell_type": "code",
   "execution_count": 15,
   "metadata": {},
   "outputs": [
    {
     "name": "stdout",
     "output_type": "stream",
     "text": [
      "13\n"
     ]
    }
   ],
   "source": [
    "list1=[20,40,13,17]\n",
    "list1.sort()\n",
    "print(list1[0])"
   ]
  },
  {
   "cell_type": "code",
   "execution_count": 16,
   "metadata": {},
   "outputs": [
    {
     "name": "stdout",
     "output_type": "stream",
     "text": [
      "13 is smallest.\n"
     ]
    }
   ],
   "source": [
    "list1=[20,40,13,17]\n",
    "x=min(list1)\n",
    "print(\"{} is smallest.\".format(x))"
   ]
  },
  {
   "cell_type": "markdown",
   "metadata": {},
   "source": [
    "# 10. To find largest number in list"
   ]
  },
  {
   "cell_type": "code",
   "execution_count": 17,
   "metadata": {},
   "outputs": [
    {
     "name": "stdout",
     "output_type": "stream",
     "text": [
      "99\n"
     ]
    }
   ],
   "source": [
    "list1=[10,20,4,45,99]\n",
    "list1.sort()\n",
    "print(list1[-1])"
   ]
  },
  {
   "cell_type": "code",
   "execution_count": 18,
   "metadata": {},
   "outputs": [
    {
     "name": "stdout",
     "output_type": "stream",
     "text": [
      "99\n"
     ]
    }
   ],
   "source": [
    "list1=[10,20,4,45,99]\n",
    "x=max(list1)\n",
    "print(x)"
   ]
  },
  {
   "cell_type": "markdown",
   "metadata": {},
   "source": [
    "# 11.To find second largest element"
   ]
  },
  {
   "cell_type": "code",
   "execution_count": 1,
   "metadata": {},
   "outputs": [
    {
     "name": "stdout",
     "output_type": "stream",
     "text": [
      "enter number of elements: 5\n",
      "10\n",
      "20\n",
      "4\n",
      "45\n",
      "99\n",
      "45\n"
     ]
    }
   ],
   "source": [
    "def findS(arr,n):\n",
    "    m1=arr[0]\n",
    "    m2=arr[0]\n",
    "    for i in range(1,n):\n",
    "        if(arr[i]>m1):\n",
    "            m2=m1\n",
    "            m1=arr[i]\n",
    "        elif(arr[i]>m2 and arr[i]!=m1):\n",
    "            m2=arr[i]\n",
    "    return m2\n",
    "\n",
    "n=int(input(\"enter number of elements: \"))\n",
    "arr=[]\n",
    "for i in range(0,n):\n",
    "    ele=int(input())\n",
    "    arr.append(ele)\n",
    "print(findS(arr,n))"
   ]
  },
  {
   "cell_type": "markdown",
   "metadata": {},
   "source": [
    "# 12. To find N largest elements from a list"
   ]
  },
  {
   "cell_type": "code",
   "execution_count": 6,
   "metadata": {},
   "outputs": [
    {
     "name": "stdout",
     "output_type": "stream",
     "text": [
      "enter number of elements: 5\n",
      "4\n",
      "5\n",
      "2\n",
      "1\n",
      "9\n",
      "enter number of times: 2\n",
      "[9, 5]\n"
     ]
    }
   ],
   "source": [
    "def findN(arr,N,n):\n",
    "    ans=[]\n",
    "    for i in range(0,N):\n",
    "        max1=arr[0]\n",
    "        for j in range(len(arr)):\n",
    "            if(arr[j]>max1):\n",
    "                max1=arr[j]\n",
    "        arr.remove(max1)\n",
    "        ans.append(max1)\n",
    "    return ans\n",
    "\n",
    "n=int(input(\"enter number of elements: \"))\n",
    "arr=[]\n",
    "for i in range(0,n):\n",
    "    ele=int(input())\n",
    "    arr.append(ele)\n",
    "N=int(input(\"enter number of times: \"))\n",
    "print(findN(arr,N,n))"
   ]
  },
  {
   "cell_type": "code",
   "execution_count": 7,
   "metadata": {},
   "outputs": [
    {
     "name": "stdout",
     "output_type": "stream",
     "text": [
      "[298, 900, 1000, 3579]\n"
     ]
    }
   ],
   "source": [
    "l = [1000,298,3579,100,200,-45,900]\n",
    "n = 4\n",
    "l.sort()\n",
    "print(l[-n:])"
   ]
  },
  {
   "cell_type": "markdown",
   "metadata": {},
   "source": [
    "# 13. To print even numbers in a list"
   ]
  },
  {
   "cell_type": "code",
   "execution_count": 9,
   "metadata": {},
   "outputs": [
    {
     "name": "stdout",
     "output_type": "stream",
     "text": [
      "2 4 6 "
     ]
    }
   ],
   "source": [
    "def even(arr):\n",
    "    for i in arr:\n",
    "        if(i%2==0):\n",
    "            print(i,end=\" \")\n",
    "\n",
    "arr=[1,2,3,4,5,6]\n",
    "even(arr)"
   ]
  },
  {
   "cell_type": "markdown",
   "metadata": {},
   "source": [
    "## 14. To print odd numbers in a list"
   ]
  },
  {
   "cell_type": "code",
   "execution_count": 10,
   "metadata": {},
   "outputs": [
    {
     "name": "stdout",
     "output_type": "stream",
     "text": [
      "1 3 5 "
     ]
    }
   ],
   "source": [
    "def odd(arr):\n",
    "    for i in arr:\n",
    "        if(i%2!=0):\n",
    "            print(i,end=\" \")\n",
    "\n",
    "arr=[1,2,3,4,5,6]\n",
    "odd(arr)"
   ]
  },
  {
   "cell_type": "markdown",
   "metadata": {},
   "source": [
    "## 15. To print all even numbers in a range"
   ]
  },
  {
   "cell_type": "code",
   "execution_count": 11,
   "metadata": {},
   "outputs": [
    {
     "name": "stdout",
     "output_type": "stream",
     "text": [
      "enter start of the range: 2\n",
      "enter end of the range: 7\n",
      "2 4 6 "
     ]
    }
   ],
   "source": [
    "start=int(input(\"enter start of the range: \"))\n",
    "end=int(input(\"enter end of the range: \"))\n",
    "\n",
    "for i in range(start,end+1):\n",
    "    if(i%2==0):\n",
    "        print(i,end=\" \")"
   ]
  },
  {
   "cell_type": "markdown",
   "metadata": {},
   "source": [
    "### 16. To print all odd numbers in a range"
   ]
  },
  {
   "cell_type": "code",
   "execution_count": 1,
   "metadata": {},
   "outputs": [
    {
     "name": "stdout",
     "output_type": "stream",
     "text": [
      "enter start of the range: 21\n",
      "enter end of the range: 45\n",
      "21 23 25 27 29 31 33 35 37 39 41 43 45 "
     ]
    }
   ],
   "source": [
    "start=int(input(\"enter start of the range: \"))\n",
    "end=int(input(\"enter end of the range: \"))\n",
    "\n",
    "for i in range(start,end+1):\n",
    "    if(i%2!=0):\n",
    "        print(i,end=\" \")"
   ]
  },
  {
   "cell_type": "markdown",
   "metadata": {},
   "source": [
    "### 17. To print positive numbers in a list"
   ]
  },
  {
   "cell_type": "code",
   "execution_count": 3,
   "metadata": {},
   "outputs": [
    {
     "name": "stdout",
     "output_type": "stream",
     "text": [
      "2 5 6 "
     ]
    }
   ],
   "source": [
    "def pos(arr):\n",
    "    for i in range(len(arr)):\n",
    "        if(arr[i]>0):\n",
    "            print(arr[i],end=\" \")\n",
    "            \n",
    "arr=[-1,-4,2,5,6]\n",
    "pos(arr)"
   ]
  },
  {
   "cell_type": "code",
   "execution_count": 5,
   "metadata": {},
   "outputs": [
    {
     "data": {
      "text/plain": [
       "[45, 93]"
      ]
     },
     "execution_count": 5,
     "metadata": {},
     "output_type": "execute_result"
    }
   ],
   "source": [
    "list1=[-10,-21,-4,45,-66,93]\n",
    "\n",
    "pos=[num for num in list1 if num>=0]\n",
    "pos"
   ]
  },
  {
   "cell_type": "markdown",
   "metadata": {},
   "source": [
    "### 18. To print negative numbers in a list"
   ]
  },
  {
   "cell_type": "code",
   "execution_count": 6,
   "metadata": {},
   "outputs": [
    {
     "name": "stdout",
     "output_type": "stream",
     "text": [
      "-1 -4 "
     ]
    }
   ],
   "source": [
    "def neg(arr):\n",
    "    for i in range(len(arr)):\n",
    "        if(arr[i]<0):\n",
    "            print(arr[i],end=\" \")\n",
    "            \n",
    "arr=[-1,-4,2,5,6]\n",
    "neg(arr)"
   ]
  },
  {
   "cell_type": "markdown",
   "metadata": {},
   "source": [
    "### 19. To print all positive numbers in a range"
   ]
  },
  {
   "cell_type": "code",
   "execution_count": 7,
   "metadata": {},
   "outputs": [
    {
     "name": "stdout",
     "output_type": "stream",
     "text": [
      "enter the start of list: -9\n",
      "enter the end of list: 10\n",
      "0 1 2 3 4 5 6 7 8 9 10 "
     ]
    }
   ],
   "source": [
    "start=int(input(\"enter the start of list: \"))\n",
    "end=int(input(\"enter the end of list: \"))\n",
    "\n",
    "for i in range(start,end+1):\n",
    "    if(i>=0):\n",
    "        print(i,end=\" \")"
   ]
  },
  {
   "cell_type": "markdown",
   "metadata": {},
   "source": [
    "### 20. To print all negative numbers in a range"
   ]
  },
  {
   "cell_type": "code",
   "execution_count": 8,
   "metadata": {},
   "outputs": [
    {
     "name": "stdout",
     "output_type": "stream",
     "text": [
      "enter the start of list: -5\n",
      "enter the end of list: 2\n",
      "-5 -4 -3 -2 -1 "
     ]
    }
   ],
   "source": [
    "start=int(input(\"enter the start of list: \"))\n",
    "end=int(input(\"enter the end of list: \"))\n",
    "\n",
    "for i in range(start,end+1):\n",
    "    if(i<0):\n",
    "        print(i,end=\" \")"
   ]
  },
  {
   "cell_type": "markdown",
   "metadata": {},
   "source": [
    "### 21. To remove multiple elements from a list"
   ]
  },
  {
   "cell_type": "code",
   "execution_count": 1,
   "metadata": {},
   "outputs": [
    {
     "name": "stdout",
     "output_type": "stream",
     "text": [
      "[1, 3, 5]\n"
     ]
    }
   ],
   "source": [
    "def rem(arr):\n",
    "    for i in arr:\n",
    "        if(i%2==0):\n",
    "            arr.remove(i)\n",
    "    \n",
    "arr=[1,2,3,4,5,6]\n",
    "rem(arr)\n",
    "print(arr)"
   ]
  },
  {
   "cell_type": "markdown",
   "metadata": {},
   "source": [
    "### 22. remove empty list from list"
   ]
  },
  {
   "cell_type": "code",
   "execution_count": 2,
   "metadata": {},
   "outputs": [
    {
     "data": {
      "text/plain": [
       "[5, 6, 3, 9]"
      ]
     },
     "execution_count": 2,
     "metadata": {},
     "output_type": "execute_result"
    }
   ],
   "source": [
    "list1=[5,6,[],3,[],[],9]\n",
    "\n",
    "res=[ele for ele in list1 if ele!=[]]\n",
    "res"
   ]
  },
  {
   "cell_type": "code",
   "execution_count": 4,
   "metadata": {},
   "outputs": [
    {
     "data": {
      "text/plain": [
       "[5, 6, 3, 9]"
      ]
     },
     "execution_count": 4,
     "metadata": {},
     "output_type": "execute_result"
    }
   ],
   "source": [
    "list1=[5,6,[],3,[],[],9]\n",
    "\n",
    "res=list(filter(None,list1))\n",
    "res"
   ]
  },
  {
   "cell_type": "markdown",
   "metadata": {},
   "source": [
    "### 23. Cloning or copying a list"
   ]
  },
  {
   "cell_type": "code",
   "execution_count": 5,
   "metadata": {},
   "outputs": [
    {
     "data": {
      "text/plain": [
       "[1, 2, 3, 4, 5]"
      ]
     },
     "execution_count": 5,
     "metadata": {},
     "output_type": "execute_result"
    }
   ],
   "source": [
    "def cloning(list1):\n",
    "    copy=list1[:]\n",
    "    return copy\n",
    "\n",
    "list1=[1,2,3,4,5]\n",
    "copy=cloning(list1)\n",
    "copy"
   ]
  },
  {
   "cell_type": "code",
   "execution_count": 6,
   "metadata": {},
   "outputs": [
    {
     "data": {
      "text/plain": [
       "[1, 2, 3, 4, 5]"
      ]
     },
     "execution_count": 6,
     "metadata": {},
     "output_type": "execute_result"
    }
   ],
   "source": [
    "def cloning(list1):\n",
    "    copy=[]\n",
    "    copy.extend(list1)\n",
    "    return copy\n",
    "\n",
    "list1=[1,2,3,4,5]\n",
    "copy=cloning(list1)\n",
    "copy"
   ]
  },
  {
   "cell_type": "code",
   "execution_count": 7,
   "metadata": {},
   "outputs": [
    {
     "data": {
      "text/plain": [
       "[1, 2, 3, 4, 5]"
      ]
     },
     "execution_count": 7,
     "metadata": {},
     "output_type": "execute_result"
    }
   ],
   "source": [
    "def cloning(list1):\n",
    "    copy=[]\n",
    "    copy=list1.copy()\n",
    "    return copy\n",
    "\n",
    "list1=[1,2,3,4,5]\n",
    "copy=cloning(list1)\n",
    "copy"
   ]
  },
  {
   "cell_type": "markdown",
   "metadata": {},
   "source": [
    "### 24. Count occurrences of an element in a list"
   ]
  },
  {
   "cell_type": "code",
   "execution_count": 8,
   "metadata": {},
   "outputs": [
    {
     "name": "stdout",
     "output_type": "stream",
     "text": [
      "enter the number of elements: 9\n",
      "8\n",
      "6\n",
      "8\n",
      "10\n",
      "8\n",
      "20\n",
      "10\n",
      "8\n",
      "8\n",
      "enter the element: 8\n",
      "5\n"
     ]
    }
   ],
   "source": [
    "def countX(arr,x):\n",
    "    count=0\n",
    "    for i in arr:\n",
    "        if(i==x):\n",
    "            count=count+1\n",
    "    return count\n",
    "\n",
    "n=int(input(\"enter the number of elements: \"))\n",
    "arr=[]\n",
    "for i in range(n):\n",
    "    ele=int(input())\n",
    "    arr.append(ele)\n",
    "x=int(input(\"enter the element: \"))\n",
    "print(countX(arr,x))"
   ]
  },
  {
   "cell_type": "code",
   "execution_count": 9,
   "metadata": {},
   "outputs": [
    {
     "name": "stdout",
     "output_type": "stream",
     "text": [
      "8 has occurred 5 times\n"
     ]
    }
   ],
   "source": [
    "def countX(arr,x):\n",
    "    return arr.count(x)\n",
    "\n",
    "lst = [8, 6, 8, 10, 8, 20, 10, 8, 8]\n",
    "x = 8\n",
    "print('{} has occurred {} times'.format(x, countX(lst, x)))"
   ]
  },
  {
   "cell_type": "markdown",
   "metadata": {},
   "source": [
    "### 25. Remove empty tuples from a list"
   ]
  },
  {
   "cell_type": "code",
   "execution_count": 10,
   "metadata": {},
   "outputs": [
    {
     "name": "stdout",
     "output_type": "stream",
     "text": [
      "[('ram', '15', '8'), ('laxman', 'sita'), ('krishna', 'akbar', '45'), ('', '')]\n"
     ]
    }
   ],
   "source": [
    "def removeTuples(tuples):\n",
    "    tuples=[t for t in tuples if t]\n",
    "    return tuples\n",
    "\n",
    "tuples = [(), ('ram','15','8'), (), ('laxman', 'sita'), \n",
    "          ('krishna', 'akbar', '45'), ('',''),()]\n",
    "print(removeTuples(tuples))"
   ]
  },
  {
   "cell_type": "code",
   "execution_count": 12,
   "metadata": {},
   "outputs": [
    {
     "name": "stdout",
     "output_type": "stream",
     "text": [
      "[('ram', '15', '8'), ('laxman', 'sita'), ('krishna', 'akbar', '45'), ('', '')]\n"
     ]
    }
   ],
   "source": [
    "def removeTuples(tuples):\n",
    "    tuples=list(filter(None,tuples))\n",
    "    return tuples\n",
    "\n",
    "tuples = [(), ('ram','15','8'), (), ('laxman', 'sita'), \n",
    "          ('krishna', 'akbar', '45'), ('',''),()]\n",
    "print(removeTuples(tuples))"
   ]
  },
  {
   "cell_type": "markdown",
   "metadata": {},
   "source": [
    "### 26. To print duplicates from a list of integers"
   ]
  },
  {
   "cell_type": "code",
   "execution_count": 2,
   "metadata": {},
   "outputs": [
    {
     "name": "stdout",
     "output_type": "stream",
     "text": [
      "[10, 20, 40]\n"
     ]
    }
   ],
   "source": [
    "def repeat(x):\n",
    "    n=len(x)\n",
    "    repeated=[]\n",
    "    for i in range(n):\n",
    "        k=i+1\n",
    "        for j in range(k,n):\n",
    "            if(x[i]==x[j] and x[i] not in repeated):\n",
    "                repeated.append(x[i])\n",
    "    return repeated\n",
    "\n",
    "x=[10,20,20,40,50,10,20,60,40]\n",
    "print(repeat(x))"
   ]
  },
  {
   "cell_type": "markdown",
   "metadata": {},
   "source": [
    "### 27. To find cumulative sum of a list"
   ]
  },
  {
   "cell_type": "code",
   "execution_count": 3,
   "metadata": {},
   "outputs": [
    {
     "name": "stdout",
     "output_type": "stream",
     "text": [
      "[10, 30, 60, 100, 150]\n"
     ]
    }
   ],
   "source": [
    "def cumulativeSum(arr):\n",
    "    for i in range(1,len(arr)):\n",
    "        arr[i]=arr[i]+arr[i-1]\n",
    "    return arr\n",
    "\n",
    "arr=[10,20,30,40,50]\n",
    "print(cumulativeSum(arr))"
   ]
  },
  {
   "cell_type": "markdown",
   "metadata": {},
   "source": [
    "### 28. Sum of number digits in list"
   ]
  },
  {
   "cell_type": "code",
   "execution_count": 7,
   "metadata": {},
   "outputs": [
    {
     "name": "stdout",
     "output_type": "stream",
     "text": [
      "enter number of elements: 4\n",
      "12\n",
      "67\n",
      "98\n",
      "34\n",
      "[3, 13, 17, 7]\n"
     ]
    }
   ],
   "source": [
    "def SumOfNumberDigits(arr):\n",
    "    res=[]\n",
    "    for i in arr:\n",
    "        sum=0\n",
    "        for ele in str(i):\n",
    "            sum+=int(ele)\n",
    "        res.append(sum)\n",
    "    return res\n",
    "\n",
    "n=int(input(\"enter number of elements: \"))\n",
    "arr=[]\n",
    "for i in range(n):\n",
    "    ele=int(input())\n",
    "    arr.append(ele)\n",
    "print(SumOfNumberDigits(arr))"
   ]
  },
  {
   "cell_type": "markdown",
   "metadata": {},
   "source": [
    "### 29. Break a list into chunks of size N"
   ]
  },
  {
   "cell_type": "code",
   "execution_count": null,
   "metadata": {},
   "outputs": [],
   "source": []
  },
  {
   "cell_type": "markdown",
   "metadata": {},
   "source": [
    "### 30. Sort a list using second list"
   ]
  },
  {
   "cell_type": "code",
   "execution_count": 8,
   "metadata": {},
   "outputs": [
    {
     "name": "stdout",
     "output_type": "stream",
     "text": [
      "['a', 'd', 'h', 'b', 'c', 'e', 'i', 'f', 'g']\n"
     ]
    }
   ],
   "source": [
    "def sort_list(list1,list2):\n",
    "    zipped_pairs=zip(list2,list1)\n",
    "    z=[x for _, x in sorted(zipped_pairs)]\n",
    "    return z\n",
    "\n",
    "x = [\"a\", \"b\", \"c\", \"d\", \"e\", \"f\", \"g\", \"h\", \"i\"]\n",
    "y = [ 0,   1,   1,    0,   1,   2,   2,   0,   1]\n",
    " \n",
    "print(sort_list(x, y))"
   ]
  },
  {
   "cell_type": "code",
   "execution_count": null,
   "metadata": {},
   "outputs": [],
   "source": []
  }
 ],
 "metadata": {
  "kernelspec": {
   "display_name": "Python 3",
   "language": "python",
   "name": "python3"
  },
  "language_info": {
   "codemirror_mode": {
    "name": "ipython",
    "version": 3
   },
   "file_extension": ".py",
   "mimetype": "text/x-python",
   "name": "python",
   "nbconvert_exporter": "python",
   "pygments_lexer": "ipython3",
   "version": "3.7.3"
  }
 },
 "nbformat": 4,
 "nbformat_minor": 2
}
