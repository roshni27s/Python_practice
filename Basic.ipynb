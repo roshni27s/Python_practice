{
 "cells": [
  {
   "cell_type": "markdown",
   "metadata": {},
   "source": [
    "# 1. Add two numbers"
   ]
  },
  {
   "cell_type": "code",
   "execution_count": 4,
   "metadata": {},
   "outputs": [
    {
     "name": "stdout",
     "output_type": "stream",
     "text": [
      "enter 1st number: 34\n",
      "enter 2nd number: 68\n",
      "sum of 34 and 68 is 102\n"
     ]
    }
   ],
   "source": [
    "num1 = int(input(\"enter 1st number: \"))\n",
    "num2 = int(input(\"enter 2nd number: \"))\n",
    "sum = num1+num2\n",
    "print(\"sum of {0} and {1} is {2}\".format(num1,num2,sum))"
   ]
  },
  {
   "cell_type": "markdown",
   "metadata": {},
   "source": [
    "# 2. Maximum of 2 numbers"
   ]
  },
  {
   "cell_type": "code",
   "execution_count": 5,
   "metadata": {},
   "outputs": [
    {
     "name": "stdout",
     "output_type": "stream",
     "text": [
      "enter first number:45\n",
      "enter second number:67\n",
      "67\n"
     ]
    }
   ],
   "source": [
    "num1 = input(\"enter first number:\")\n",
    "num2 = input(\"enter second number:\")\n",
    "maximum = max(int(num1),int(num2))\n",
    "print(maximum)"
   ]
  },
  {
   "cell_type": "code",
   "execution_count": 6,
   "metadata": {},
   "outputs": [],
   "source": [
    "# second method"
   ]
  },
  {
   "cell_type": "code",
   "execution_count": 7,
   "metadata": {},
   "outputs": [
    {
     "name": "stdout",
     "output_type": "stream",
     "text": [
      "enter first number:34\n",
      "enter second number:55\n",
      "55\n"
     ]
    }
   ],
   "source": [
    "def maximum(a,b):\n",
    "    if (a>b):\n",
    "        return a\n",
    "    else:\n",
    "        return b\n",
    "    \n",
    "num1 = int(input(\"enter first number:\"))\n",
    "num2 = int(input(\"enter second number:\"))\n",
    "print(maximum(num1,num2))"
   ]
  },
  {
   "cell_type": "markdown",
   "metadata": {},
   "source": [
    "# 3. Factorial of a number"
   ]
  },
  {
   "cell_type": "code",
   "execution_count": 8,
   "metadata": {},
   "outputs": [],
   "source": [
    "# recursive"
   ]
  },
  {
   "cell_type": "code",
   "execution_count": 9,
   "metadata": {},
   "outputs": [
    {
     "name": "stdout",
     "output_type": "stream",
     "text": [
      "enter number:5\n",
      "120\n"
     ]
    }
   ],
   "source": [
    "def factorial(n):\n",
    "    if(n<=1):\n",
    "        return 1\n",
    "    else:\n",
    "        return factorial(n-1)*n\n",
    "    \n",
    "num = int(input(\"enter number:\"))\n",
    "print(factorial(num))"
   ]
  },
  {
   "cell_type": "code",
   "execution_count": 10,
   "metadata": {},
   "outputs": [],
   "source": [
    "# iterative"
   ]
  },
  {
   "cell_type": "code",
   "execution_count": 13,
   "metadata": {},
   "outputs": [
    {
     "name": "stdout",
     "output_type": "stream",
     "text": [
      "enter number:5\n",
      "120\n"
     ]
    }
   ],
   "source": [
    "def factorial(n):\n",
    "    fact=1\n",
    "    for i in range(1,n+1):\n",
    "        fact = fact*i\n",
    "        i=i+1\n",
    "    return fact\n",
    "\n",
    "num = int(input(\"enter number:\"))\n",
    "print(factorial(num))"
   ]
  },
  {
   "cell_type": "code",
   "execution_count": 16,
   "metadata": {},
   "outputs": [],
   "source": [
    "# in - built function"
   ]
  },
  {
   "cell_type": "code",
   "execution_count": 18,
   "metadata": {},
   "outputs": [
    {
     "name": "stdout",
     "output_type": "stream",
     "text": [
      "enter number:4\n",
      "24\n"
     ]
    }
   ],
   "source": [
    "import math\n",
    "\n",
    "def factorial(n):\n",
    "    return math.factorial(n)\n",
    "\n",
    "num = int(input(\"enter number:\"))\n",
    "print(factorial(num))"
   ]
  },
  {
   "cell_type": "markdown",
   "metadata": {},
   "source": [
    "# 4. Simple interest"
   ]
  },
  {
   "cell_type": "code",
   "execution_count": 19,
   "metadata": {},
   "outputs": [
    {
     "name": "stdout",
     "output_type": "stream",
     "text": [
      "enter principle:8\n",
      "enter time:6\n",
      "enter rate:8\n",
      "3.84\n"
     ]
    }
   ],
   "source": [
    "def simple_interest(p,t,r):\n",
    "    si = (p*t*r)/100\n",
    "    return si\n",
    "\n",
    "p = int(input(\"enter principle:\"))\n",
    "t = int(input(\"enter time:\"))\n",
    "r = int(input(\"enter rate:\"))\n",
    "print(simple_interest(p,t,r))"
   ]
  },
  {
   "cell_type": "markdown",
   "metadata": {},
   "source": [
    "# 5. Compound Interest"
   ]
  },
  {
   "cell_type": "code",
   "execution_count": 24,
   "metadata": {},
   "outputs": [
    {
     "name": "stdout",
     "output_type": "stream",
     "text": [
      "enter principle:1200\n",
      "enter time:2\n",
      "enter rate:5.4\n",
      "135.4332141502573\n"
     ]
    }
   ],
   "source": [
    "def compound_interest(p,r,t):\n",
    "    amount = p*(pow((1 + r/100),t))\n",
    "    ci = amount-p\n",
    "    return ci\n",
    "\n",
    "p = int(input(\"enter principle:\"))\n",
    "t = int(input(\"enter time:\"))\n",
    "r = float(input(\"enter rate:\"))\n",
    "print(compound_interest(p,t,r))"
   ]
  },
  {
   "cell_type": "markdown",
   "metadata": {},
   "source": [
    "# 6. Armstrong number"
   ]
  },
  {
   "cell_type": "code",
   "execution_count": 5,
   "metadata": {},
   "outputs": [
    {
     "name": "stdout",
     "output_type": "stream",
     "text": [
      "enter number:1634\n",
      "True\n"
     ]
    }
   ],
   "source": [
    "def size(n):\n",
    "    s=0\n",
    "    while(n>0):\n",
    "        s=s+1;\n",
    "        n=n//10;\n",
    "    return s\n",
    "\n",
    "def armstrong(n):\n",
    "    temp=n\n",
    "    s1=0\n",
    "    t=size(n)\n",
    "    while(temp>0):\n",
    "        y=temp%10\n",
    "        s1=s1+pow(y,t)\n",
    "        temp=temp//10\n",
    "    return (s1==n)\n",
    "\n",
    "r=int(input(\"enter number:\"))\n",
    "print(armstrong(r))"
   ]
  },
  {
   "cell_type": "markdown",
   "metadata": {},
   "source": [
    "# 7. Area of a circle"
   ]
  },
  {
   "cell_type": "code",
   "execution_count": 6,
   "metadata": {},
   "outputs": [
    {
     "name": "stdout",
     "output_type": "stream",
     "text": [
      "enter radius:7\n",
      "153.958\n"
     ]
    }
   ],
   "source": [
    "def area(r):\n",
    "    return 3.142*(r*r)\n",
    "\n",
    "r=int(input(\"enter radius:\"))\n",
    "print(area(r))"
   ]
  },
  {
   "cell_type": "markdown",
   "metadata": {},
   "source": [
    "# 8. Prime numbers in an interval"
   ]
  },
  {
   "cell_type": "code",
   "execution_count": 10,
   "metadata": {},
   "outputs": [
    {
     "name": "stdout",
     "output_type": "stream",
     "text": [
      "11\n",
      "13\n",
      "17\n",
      "19\n",
      "23\n"
     ]
    }
   ],
   "source": [
    "def prime(start,end):\n",
    "    for i in range(start,end+1):\n",
    "        if(i>1):\n",
    "            for j in range(2,i):\n",
    "                if(i%j==0):\n",
    "                    break\n",
    "            else:\n",
    "                print(i)\n",
    "        \n",
    "start=11\n",
    "end=25\n",
    "prime(start,end)"
   ]
  },
  {
   "cell_type": "markdown",
   "metadata": {},
   "source": [
    "# 9. Check Prime number"
   ]
  },
  {
   "cell_type": "code",
   "execution_count": 15,
   "metadata": {},
   "outputs": [
    {
     "name": "stdout",
     "output_type": "stream",
     "text": [
      "enter number: 3\n",
      "prime number.\n"
     ]
    }
   ],
   "source": [
    "def checkPrime(num):\n",
    "    if(num>1):\n",
    "        for i in range(2,(num//2)+1):\n",
    "            if(num%i==0):\n",
    "                print(\"Not a prime number.\")\n",
    "                break;\n",
    "        else:\n",
    "            print(\"prime number.\")\n",
    "    else:\n",
    "        print(\"not a prime number.\")\n",
    "        \n",
    "num=int(input(\"enter number: \"))\n",
    "checkPrime(num)"
   ]
  },
  {
   "cell_type": "markdown",
   "metadata": {},
   "source": [
    "# 10. Fibonacci Number"
   ]
  },
  {
   "cell_type": "code",
   "execution_count": 19,
   "metadata": {},
   "outputs": [
    {
     "name": "stdout",
     "output_type": "stream",
     "text": [
      "enter number:5\n",
      "3\n"
     ]
    }
   ],
   "source": [
    "def fibonacci(n):\n",
    "    if(n<0):\n",
    "        print(\"incorrect\")\n",
    "    elif(n==1):\n",
    "        return 0\n",
    "    elif(n==2):\n",
    "        return 1\n",
    "    else:\n",
    "        return fibonacci(n-1)+fibonacci(n-2)\n",
    "    \n",
    "n=int(input(\"enter number:\"))\n",
    "print(fibonacci(n))"
   ]
  },
  {
   "cell_type": "markdown",
   "metadata": {},
   "source": [
    "# 11. Check if a given number is Fibonacci number?"
   ]
  },
  {
   "cell_type": "code",
   "execution_count": 3,
   "metadata": {},
   "outputs": [
    {
     "name": "stdout",
     "output_type": "stream",
     "text": [
      "1 is Fibonacci number.\n",
      "2 is Fibonacci number.\n",
      "3 is Fibonacci number.\n",
      "4 is not a fibonacci number\n",
      "5 is Fibonacci number.\n",
      "6 is not a fibonacci number\n",
      "7 is not a fibonacci number\n",
      "8 is Fibonacci number.\n",
      "9 is not a fibonacci number\n",
      "10 is not a fibonacci number\n"
     ]
    }
   ],
   "source": [
    "import math\n",
    "\n",
    "def isPerfectSquare(x):\n",
    "    s=int(math.sqrt(x))\n",
    "    return (s*s)==x\n",
    "\n",
    "def isFibonacci(n):\n",
    "    return isPerfectSquare(5*n*n+4) or isPerfectSquare(5*n*n-4)\n",
    "\n",
    "for i in range(1,11):\n",
    "    if(isFibonacci(i)==True):\n",
    "        print(\"{} is Fibonacci number.\".format(i))\n",
    "    else:\n",
    "        print(\"{} is not a fibonacci number\".format(i))"
   ]
  },
  {
   "cell_type": "markdown",
   "metadata": {},
   "source": [
    "# 12. Print ASCII value of a character"
   ]
  },
  {
   "cell_type": "code",
   "execution_count": 6,
   "metadata": {},
   "outputs": [
    {
     "name": "stdout",
     "output_type": "stream",
     "text": [
      "enter character: A\n",
      "ASCII value of A is 65\n"
     ]
    }
   ],
   "source": [
    "character = input(\"enter character: \")\n",
    "print(\"ASCII value of \"+character+\" is\",ord(character))"
   ]
  },
  {
   "cell_type": "markdown",
   "metadata": {},
   "source": [
    "# 13. Program for sum of squares of first n natral numbers"
   ]
  },
  {
   "cell_type": "code",
   "execution_count": 7,
   "metadata": {},
   "outputs": [
    {
     "name": "stdout",
     "output_type": "stream",
     "text": [
      "enter the number: 3\n",
      "14\n"
     ]
    }
   ],
   "source": [
    "def squaresum(n):\n",
    "    t=(n*(n+1)*((2*n)+1))//6\n",
    "    return t\n",
    "\n",
    "n=int(input(\"enter the number: \"))\n",
    "print(squaresum(n))"
   ]
  },
  {
   "cell_type": "markdown",
   "metadata": {},
   "source": [
    "# 14. Program for sum of cubes of first n natural numbers"
   ]
  },
  {
   "cell_type": "code",
   "execution_count": 9,
   "metadata": {},
   "outputs": [
    {
     "name": "stdout",
     "output_type": "stream",
     "text": [
      "enter the number: 7\n",
      "784\n"
     ]
    }
   ],
   "source": [
    "def cubesum(n):\n",
    "    t=(n*(n+1))/2\n",
    "    return int(t*t)\n",
    "\n",
    "n=int(input(\"enter the number: \"))\n",
    "print(cubesum(n))"
   ]
  },
  {
   "cell_type": "code",
   "execution_count": null,
   "metadata": {},
   "outputs": [],
   "source": []
  }
 ],
 "metadata": {
  "kernelspec": {
   "display_name": "Python 3",
   "language": "python",
   "name": "python3"
  },
  "language_info": {
   "codemirror_mode": {
    "name": "ipython",
    "version": 3
   },
   "file_extension": ".py",
   "mimetype": "text/x-python",
   "name": "python",
   "nbconvert_exporter": "python",
   "pygments_lexer": "ipython3",
   "version": "3.7.3"
  }
 },
 "nbformat": 4,
 "nbformat_minor": 2
}
